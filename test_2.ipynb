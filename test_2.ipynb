{
 "cells": [
  {
   "cell_type": "code",
   "execution_count": 23,
   "metadata": {},
   "outputs": [
    {
     "name": "stdout",
     "output_type": "stream",
     "text": [
      "0 0 0 0 0 0 0 0\n",
      "0 1 0 0 0 0 0 0\n",
      "0 0 2 0 0 0 0 0\n",
      "0 0 0 3 0 0 0 0\n",
      "0 0 0 0 4 0 0 0\n",
      "0 0 0 0 0 5 0 0\n",
      "0 0 0 0 0 0 6 0\n",
      "0 0 0 0 0 0 0 7\n",
      "0 0 0 0 0 0 0 0\n",
      "0 0 0 0 0 0 0 0\n",
      "0 0 0 0 0 0 0 0\n",
      "0 0 0 0 0 0 0 0\n"
     ]
    }
   ],
   "source": [
    "def generer_table(largeur, hauteur):\n",
    "   \n",
    "    table = [[0 for _ in range(largeur)] for _ in range(hauteur)]\n",
    "    \n",
    "    value = 0\n",
    "    for i in range(hauteur):\n",
    "        for j in range(largeur):\n",
    "            if i == j:\n",
    "                table[i][j] = value\n",
    "                value += 1\n",
    "    \n",
    "    \n",
    "    for row in table:\n",
    "        print(\" \".join(map(str, row)))\n",
    "\n",
    "if __name__ == \"__main__\":\n",
    "    largeur = int(input(\"Entrer la largeurde la table: \"))\n",
    "    hauteur = int(input(\"Entrer la hauteur de la table: \"))\n",
    "    generer_table(largeur, hauteur)\n"
   ]
  }
 ],
 "metadata": {
  "kernelspec": {
   "display_name": "base",
   "language": "python",
   "name": "python3"
  },
  "language_info": {
   "codemirror_mode": {
    "name": "ipython",
    "version": 3
   },
   "file_extension": ".py",
   "mimetype": "text/x-python",
   "name": "python",
   "nbconvert_exporter": "python",
   "pygments_lexer": "ipython3",
   "version": "3.9.7"
  }
 },
 "nbformat": 4,
 "nbformat_minor": 2
}
